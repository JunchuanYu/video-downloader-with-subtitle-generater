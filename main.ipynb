{
 "cells": [
  {
   "cell_type": "markdown",
   "metadata": {},
   "source": [
    "# Youtube Video Downloader"
   ]
  },
  {
   "cell_type": "markdown",
   "metadata": {},
   "source": [
    "Download video from Youtube, and generate english and chinese subtitle using HKUST Xunfei's api."
   ]
  },
  {
   "cell_type": "markdown",
   "metadata": {},
   "source": [
    "* ffmpeg https://ffmpeg.org/\n",
    "* ImageMagick https://imagemagick.org/\n",
    "* pip install youtube-dl yt-dlp ffmpeg-python pysrt moviepy\n"
   ]
  },
  {
   "cell_type": "code",
   "execution_count": 1,
   "metadata": {},
   "outputs": [],
   "source": [
    "import requests\n",
    "import json\n",
    "import ffmpeg\n",
    "import pysrt\n",
    "import re\n",
    "from moviepy.editor import *\n",
    "from moviepy.video.tools.subtitles import SubtitlesClip\n",
    "from srtmerge import srtmerge\n",
    "import pandas as pd\n",
    "from downloader import *\n",
    "from downloader.DownloaderFactory import DownloaderFactory\n",
    "from utils import *"
   ]
  },
  {
   "cell_type": "markdown",
   "metadata": {},
   "source": [
    "* 科大讯飞平台API https://www.xfyun.cn/\n",
    "* 创建应用，复制APPID，作为 video_carrier.py 25行 XF_APP_ID 的值\n",
    "* 语音识别->语音转写，开通，复制 SecretKey，作为 video_carrier.py 27行 XF_LFASR_SECRET_KEY 的值\n",
    "* 自然语言处理->及其翻译，开通，复制 APISecret， 作为 video_carrier.py 29行 XF_MT_API_SECRET 的值； 复制 APIKey，作为 video_carrier.py 30行 XF_MT_API_KEY 的值"
   ]
  },
  {
   "cell_type": "code",
   "execution_count": null,
   "metadata": {},
   "outputs": [],
   "source": [
    "# 科大讯飞平台的 appid,\n",
    "XF_APP_ID = ''\n",
    "# 科大讯飞语音转写的 SecretKey\n",
    "XF_LFASR_SECRET_KEY = ''\n",
    "# 科大讯飞机器翻译 APISecret、APIKey\n",
    "XF_MT_API_SECRET = ''\n",
    "XF_MT_API_KEY = ''\n",
    "# !set http_proxy=http://127.0.0.1:25379/ #your vpn port\n",
    "# !set https_proxy=https://127.0.0.1:25379/"
   ]
  },
  {
   "cell_type": "code",
   "execution_count": 13,
   "metadata": {},
   "outputs": [],
   "source": [
    "def speech_to_text(outfile, duration):\n",
    "    \"\"\"\n",
    "    调用讯飞语音转写API完成语音识别成为文本\n",
    "    :param file: 语音文件相名\n",
    "    :param duration: 音频时长，单位毫秒\n",
    "    :return: 识别结果\n",
    "    \"\"\"\n",
    "    api = xf_lfasr.RequestApi(\n",
    "        appid=XF_APP_ID,\n",
    "        secret_key=XF_LFASR_SECRET_KEY,\n",
    "        upload_file_path=outfile\n",
    "    )\n",
    "    return api.recognize(duration)\n",
    "\n",
    "def translate(text, from_lang='en', to_lang='cn'):\n",
    "    \"\"\"\n",
    "    翻译\n",
    "    :param text: 待翻译文本列表\n",
    "    :param from_lang: 原语言\n",
    "    :param to_lang: 目标语言\n",
    "    :return: 无\n",
    "    \"\"\"\n",
    "    for item in text:\n",
    "        item['text'] = xf_mt.translate(\n",
    "            XF_APP_ID, XF_MT_API_SECRET, XF_MT_API_KEY, item['text'], from_lang, to_lang)\n",
    "def file_name(file):\n",
    "    return file[:file.rindex('.')]\n",
    "\n",
    "def text_to_srt(text, outfile):\n",
    "    \"\"\"\n",
    "    讯飞识别完的文本转为字幕文件(srt)\n",
    "    :param text: 文本(携带每一句文本的开始和结束时间)\n",
    "    :param file: srt文件名\n",
    "    :return:\n",
    "    \"\"\"\n",
    "    sub_titles = []\n",
    "    for i, item in enumerate(text):\n",
    "        sub_titles.append(pysrt.SubRipItem(\n",
    "            i,\n",
    "            pysrt.SubRipTime(milliseconds=int(item['begin_at'])),\n",
    "            pysrt.SubRipTime(milliseconds=int(item['end_at'])),\n",
    "            item['text']\n",
    "        ))\n",
    "    subtitle_file = pysrt.SubRipFile(sub_titles)\n",
    "    subtitle_file.save(outfile, encoding='utf-8')\n",
    "\n",
    "def write_srt_to_video(video_file, srt_file):\n",
    "    \"\"\"\n",
    "    字幕文件写入到视频中进行显示\n",
    "    :param video_file: 视频文件名\n",
    "    :param srt_file: 字母文件名\n",
    "    :return: 结果文件名\n",
    "    \"\"\"\n",
    "    input_video = VideoFileClip(video_file)\n",
    "    generator = lambda text: TextClip(text, font='Microsoft-YaHei-Bold-&-Microsoft-YaHei-UI-Bold', fontsize=round(input_video.size[0]/38.4), color='White', stroke_color='black',\n",
    "        stroke_width=1.5, bg_color='transparent',transparent=True,method='caption', align='South',size=(input_video.size[0] * 0.98, input_video.size[1] * 0.99))\n",
    "    sub_titles = SubtitlesClip(srt_file,generator, encoding='utf-8') # 需要更新新版pip install moviepy==2.0.0.dev2\n",
    "    # sub_titles = SubtitlesClip(srt_file,generator)\n",
    "    final_video = CompositeVideoClip([input_video, sub_titles.set_position((0.01, 0), relative=True)] ).set_duration(input_video.duration)\n",
    "    out_file =file_name(video_file) + '_srt.mp4'\n",
    "    # threads为FFmpeg处理视频时可用的线程数，根据机器的核心数进行配置\n",
    "    final_video.write_videofile(out_file, audio=False, threads=24)\n",
    "    return out_file\n",
    "\n",
    "def f_conver(file):\n",
    "    name = file_name(file)\n",
    "    video = ffmpeg.input(file)\n",
    "    video_stream = video.video\n",
    "    audio_stream = video.audio\n",
    "\n",
    "    # 抽取音频\n",
    "    ori_audio = name + '_audio.wav'\n",
    "    print(ori_audio)\n",
    "    if not os.path.exists(ori_audio):\n",
    "        ffmpeg.output(audio_stream, ori_audio).run()\n",
    "    else:\n",
    "        print('file already exist: '+ori_audio)\n",
    "    # 抽取视频\n",
    "    ori_video = name + '_video.mp4'\n",
    " \n",
    "    if not os.path.exists(ori_video):\n",
    "        ffmpeg.output(video_stream, ori_video).run()\n",
    "    else:\n",
    "        print('file already exist: '+ori_video)\n",
    "    return  ori_audio,ori_video  \n",
    "\n",
    "def tran_srt(ori_audio,video_id,out_dir,**opts):\n",
    "    # 音频提取文本(并翻译，如果需要的话)\n",
    "    duration_ms = int(float(ffmpeg.probe(ori_audio)['streams'][0]['duration']) * 1000)\n",
    "    en_srt = speech_to_text(ori_audio, duration_ms)\n",
    "    tmp=en_srt.copy()\n",
    "    srt_file1 = out_dir+video_id + '_en.srt'\n",
    "    text_to_srt(en_srt, srt_file1)\n",
    "    if opts.get('lang', 0) and opts.get('translate', 0):\n",
    "        translate(tmp, opts['lang'], opts['translate'])\n",
    "        cn_srt=tmp.copy()\n",
    "        srt_file2 = out_dir+video_id + '_cn.srt'\n",
    "        text_to_srt(cn_srt, srt_file2)\n",
    "    if opts.get('merge', 0):\n",
    "        final_srt=out_dir+video_id + '_fn.srt'\n",
    "        srtmerge([srt_file2,srt_file1],final_srt, offset=1000)\n",
    "    return srt_file1,srt_file2\n",
    "\n",
    "def produce_video(ori_audio,ori_video, srt_file,ratio,video_id,out_dir):\n",
    "    srt_video = write_srt_to_video(ori_video, srt_file)\n",
    "    video_stream = VideoFileClip(ori_video)\n",
    "    audio_stream = AudioFileClip(ori_audio)\n",
    "    finalvideo = video_stream.set_audio(audio_stream)  # 将提取的视频1的音频合成到2视频中\n",
    "    final_name = out_dir+ video_id+ '_result.mp4'\n",
    "    finalvideo.write_videofile(final_name)\n",
    "\n",
    "def process_video(ori_audio,ori_video, srt_file,ratio,video_id,out_dir,ifsrt=True):\n",
    "     # 字幕写入视频文件\n",
    "    if ifsrt:\n",
    "        ori_video = write_srt_to_video(ori_video, srt_file)\n",
    "    # Input video and audio\n",
    "    input_audio=ffmpeg.input(ori_audio)\n",
    "    input_video = ffmpeg.input(ori_video)\n",
    "    if ratio !=1:\n",
    "        # Speed up the video\n",
    "        input_video = input_video.filter('setpts', str(ratio) + \"*PTS\")  # Speed up the video by 1/ratio\n",
    "        # Speed up the audio\n",
    "        input_audio = input_audio.filter('atempo', str(1/ratio))  # Speed up the audio by 1/ratio\n",
    "    # Concatenate the video and audio\n",
    "    concatenated = ffmpeg.concat(input_video, input_audio, v=1, a=1).node\n",
    "    # Output the final video\n",
    "    final_name = out_dir+ video_id+ '_result.mp4'\n",
    "    output_video = ffmpeg.output(concatenated[0], concatenated[1], final_name)\n",
    "    # Run the command\n",
    "    ffmpeg.run(output_video)\n",
    "    return final_name\n",
    "def save_csv(rs,video_id,out_dir):\n",
    "    with open(out_dir+video_id+'.csv', 'w') as f:\n",
    "        [f.write('{0},{1}\\n'.format(key, value)) for key, value in rs.items()]"
   ]
  },
  {
   "cell_type": "code",
   "execution_count": null,
   "metadata": {},
   "outputs": [],
   "source": [
    "if __name__ == '__main__':\n",
    "    # 要下载的YouTube视频的ID，在YouTube播放界面上，复制地址中的参数\n",
    "    url='https://www.youtube.com/watch?v=gSjrUPMLkZY'\n",
    "    video_id = url.split('watch?v=')[-1]\n",
    "    outdir='./videos/'\n",
    "    # 代理服务器地址\n",
    "    proxy_url = 'http://127.0.0.1:25379/'\n",
    "\n",
    "    # 从YouTube下载视频到本地\n",
    "    downloader = DownloaderFactory.create_downloader('YouTube', video_id, proxy_url)\n",
    "    # downloader = DownloaderFactory.create_downloader('YouTube', video_id)\n",
    "    rs = downloader.download()\n",
    "    save_csv(rs,video_id,outdir) \n",
    "    print(rs)"
   ]
  },
  {
   "cell_type": "code",
   "execution_count": 14,
   "metadata": {},
   "outputs": [
    {
     "data": {
      "text/plain": [
       "'./videos/gSjrUPMLkZY_result.mp4'"
      ]
     },
     "execution_count": 14,
     "metadata": {},
     "output_type": "execute_result"
    }
   ],
   "source": [
    "# 下载完需要切断vpn才能使用科大讯飞api\n",
    "file=outdir+video_id+'.webm'\n",
    "final_srt=outdir+video_id + '_fn.srt'\n",
    "ori_audio,ori_video =f_conver(file)\n",
    "# # en_srt=outdir+video_id+'_en.srt'\n",
    "# # cn_srt=outdir+video_id+'_cn.srt'\n",
    "en_srt,cn_srt=tran_srt(ori_audio,video_id,outdir,lang='en', translate='cn',merge=True)\n",
    "# ori_audio=outdir+video_id+'_audio.wav'\n",
    "# ori_video=outdir+video_id+'_video.mp4'\n",
    "process_video(ori_audio,ori_video,final_srt,0.9,video_id,outdir,ifsrt=False)"
   ]
  },
  {
   "cell_type": "markdown",
   "metadata": {},
   "source": []
  },
  {
   "cell_type": "code",
   "execution_count": null,
   "metadata": {},
   "outputs": [],
   "source": []
  }
 ],
 "metadata": {
  "kernelspec": {
   "display_name": "Python 3.9.12 ('base')",
   "language": "python",
   "name": "python3"
  },
  "language_info": {
   "codemirror_mode": {
    "name": "ipython",
    "version": 3
   },
   "file_extension": ".py",
   "mimetype": "text/x-python",
   "name": "python",
   "nbconvert_exporter": "python",
   "pygments_lexer": "ipython3",
   "version": "3.9.12"
  },
  "orig_nbformat": 4,
  "vscode": {
   "interpreter": {
    "hash": "ad2bdc8ecc057115af97d19610ffacc2b4e99fae6737bb82f5d7fb13d2f2c186"
   }
  }
 },
 "nbformat": 4,
 "nbformat_minor": 2
}
